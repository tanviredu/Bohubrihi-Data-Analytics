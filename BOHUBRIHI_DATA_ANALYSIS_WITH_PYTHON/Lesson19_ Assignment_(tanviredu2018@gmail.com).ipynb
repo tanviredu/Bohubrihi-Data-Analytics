{
 "cells": [
  {
   "cell_type": "markdown",
   "id": "ea268fe9-0cb7-4013-bd3f-e6b1c5e2dfee",
   "metadata": {},
   "source": [
    "# Question 1\n",
    "### Question : Calculate the mean value of the 'Value' column for the month of January 2023."
   ]
  },
  {
   "cell_type": "code",
   "execution_count": 1,
   "id": "00cfed0e-1d06-41bb-ac5c-1e8a7d921c7f",
   "metadata": {},
   "outputs": [],
   "source": [
    "import numpy  as np\n",
    "import pandas as pd\n",
    "import matplotlib.pyplot as plt"
   ]
  },
  {
   "cell_type": "code",
   "execution_count": 4,
   "id": "35f3ee77-5b24-4f8a-bc13-b921cfdc40d9",
   "metadata": {},
   "outputs": [],
   "source": [
    "daterng = pd.date_range(start='2023-01-01', end='2023-01-31', freq='D')\n",
    "data = np.random.rand(len(daterng)) # Random data for demonstration \n",
    "df = pd.DataFrame({'Date': daterng, 'Value': data})\n",
    "df.set_index('Date', inplace=True)"
   ]
  },
  {
   "cell_type": "code",
   "execution_count": null,
   "id": "3fd8d5d4-8473-4801-8ef9-899ae347bab9",
   "metadata": {},
   "outputs": [],
   "source": []
  },
  {
   "cell_type": "code",
   "execution_count": 18,
   "id": "3225b749-5b8d-4a02-ad32-ace0b3e9d757",
   "metadata": {},
   "outputs": [
    {
     "name": "stdout",
     "output_type": "stream",
     "text": [
      "MEAN VALUE OF JANUARY 2023 IS : 0.5663769835898832\n"
     ]
    }
   ],
   "source": [
    "january_2023_mean = df['2023-01-01':'2023-01-31']['Value'].mean()\n",
    "print(\"MEAN VALUE OF JANUARY 2023 IS : {}\".format(january_2023_mean))"
   ]
  },
  {
   "cell_type": "code",
   "execution_count": null,
   "id": "a9e8890b-ce21-4c06-935e-c958e14ac628",
   "metadata": {},
   "outputs": [],
   "source": [
    "\n"
   ]
  },
  {
   "cell_type": "markdown",
   "id": "dce3e62d-c8e4-4733-ba10-d49adcbd2c4e",
   "metadata": {},
   "source": [
    "# Question 2\n",
    "##  Extract and display data for the week of January 15, 2023, to January 21, 2023."
   ]
  },
  {
   "cell_type": "code",
   "execution_count": 38,
   "id": "a5e32f83-62e2-4abc-890e-e6fdc1cdb1bc",
   "metadata": {},
   "outputs": [
    {
     "data": {
      "text/plain": [
       "Date\n",
       "2023-01-15    0.974845\n",
       "2023-01-16    0.860513\n",
       "2023-01-17    0.334616\n",
       "2023-01-18    0.650460\n",
       "2023-01-19    0.168233\n",
       "2023-01-20    0.667443\n",
       "2023-01-21    0.918449\n",
       "Name: Value, dtype: float64"
      ]
     },
     "execution_count": 38,
     "metadata": {},
     "output_type": "execute_result"
    }
   ],
   "source": [
    "data = df.loc['2023-01-15':'2023-01-21','Value']\n",
    "data"
   ]
  },
  {
   "cell_type": "code",
   "execution_count": null,
   "id": "927ca017-597c-4889-b61e-4bbc674baea1",
   "metadata": {},
   "outputs": [],
   "source": [
    "\n"
   ]
  },
  {
   "cell_type": "markdown",
   "id": "63386523-2a00-4dd5-bf88-83549a8f48fd",
   "metadata": {},
   "source": [
    "# Question 3\n",
    "## Calculate the rolling 7-day average of the 'Value' column and create a new DataFrame with the original data and the rolling average."
   ]
  },
  {
   "cell_type": "code",
   "execution_count": 32,
   "id": "e14f7146-524f-4a08-8626-fcec45b921da",
   "metadata": {},
   "outputs": [],
   "source": [
    "rolling_7_avg = df['Value'].rolling(window = 7).mean()\n",
    "df_with_rolling_avg = pd.DataFrame({\n",
    "    'Value':df['Value'],\n",
    "    'Rolling_Avg':rolling_7_avg\n",
    "})"
   ]
  },
  {
   "cell_type": "code",
   "execution_count": 33,
   "id": "d2f8737d-757b-480a-b67b-1a59e44b7971",
   "metadata": {},
   "outputs": [
    {
     "data": {
      "text/html": [
       "<div>\n",
       "<style scoped>\n",
       "    .dataframe tbody tr th:only-of-type {\n",
       "        vertical-align: middle;\n",
       "    }\n",
       "\n",
       "    .dataframe tbody tr th {\n",
       "        vertical-align: top;\n",
       "    }\n",
       "\n",
       "    .dataframe thead th {\n",
       "        text-align: right;\n",
       "    }\n",
       "</style>\n",
       "<table border=\"1\" class=\"dataframe\">\n",
       "  <thead>\n",
       "    <tr style=\"text-align: right;\">\n",
       "      <th></th>\n",
       "      <th>Value</th>\n",
       "      <th>Rolling_Avg</th>\n",
       "    </tr>\n",
       "    <tr>\n",
       "      <th>Date</th>\n",
       "      <th></th>\n",
       "      <th></th>\n",
       "    </tr>\n",
       "  </thead>\n",
       "  <tbody>\n",
       "    <tr>\n",
       "      <th>2023-01-01</th>\n",
       "      <td>0.520757</td>\n",
       "      <td>NaN</td>\n",
       "    </tr>\n",
       "    <tr>\n",
       "      <th>2023-01-02</th>\n",
       "      <td>0.547889</td>\n",
       "      <td>NaN</td>\n",
       "    </tr>\n",
       "    <tr>\n",
       "      <th>2023-01-03</th>\n",
       "      <td>0.390987</td>\n",
       "      <td>NaN</td>\n",
       "    </tr>\n",
       "    <tr>\n",
       "      <th>2023-01-04</th>\n",
       "      <td>0.913702</td>\n",
       "      <td>NaN</td>\n",
       "    </tr>\n",
       "    <tr>\n",
       "      <th>2023-01-05</th>\n",
       "      <td>0.133816</td>\n",
       "      <td>NaN</td>\n",
       "    </tr>\n",
       "    <tr>\n",
       "      <th>2023-01-06</th>\n",
       "      <td>0.700204</td>\n",
       "      <td>NaN</td>\n",
       "    </tr>\n",
       "    <tr>\n",
       "      <th>2023-01-07</th>\n",
       "      <td>0.496847</td>\n",
       "      <td>0.529172</td>\n",
       "    </tr>\n",
       "    <tr>\n",
       "      <th>2023-01-08</th>\n",
       "      <td>0.906140</td>\n",
       "      <td>0.584226</td>\n",
       "    </tr>\n",
       "    <tr>\n",
       "      <th>2023-01-09</th>\n",
       "      <td>0.010282</td>\n",
       "      <td>0.507425</td>\n",
       "    </tr>\n",
       "    <tr>\n",
       "      <th>2023-01-10</th>\n",
       "      <td>0.323413</td>\n",
       "      <td>0.497772</td>\n",
       "    </tr>\n",
       "    <tr>\n",
       "      <th>2023-01-11</th>\n",
       "      <td>0.834974</td>\n",
       "      <td>0.486525</td>\n",
       "    </tr>\n",
       "    <tr>\n",
       "      <th>2023-01-12</th>\n",
       "      <td>0.643652</td>\n",
       "      <td>0.559359</td>\n",
       "    </tr>\n",
       "    <tr>\n",
       "      <th>2023-01-13</th>\n",
       "      <td>0.519744</td>\n",
       "      <td>0.533579</td>\n",
       "    </tr>\n",
       "    <tr>\n",
       "      <th>2023-01-14</th>\n",
       "      <td>0.544587</td>\n",
       "      <td>0.540399</td>\n",
       "    </tr>\n",
       "    <tr>\n",
       "      <th>2023-01-15</th>\n",
       "      <td>0.974845</td>\n",
       "      <td>0.550214</td>\n",
       "    </tr>\n",
       "    <tr>\n",
       "      <th>2023-01-16</th>\n",
       "      <td>0.860513</td>\n",
       "      <td>0.671675</td>\n",
       "    </tr>\n",
       "    <tr>\n",
       "      <th>2023-01-17</th>\n",
       "      <td>0.334616</td>\n",
       "      <td>0.673276</td>\n",
       "    </tr>\n",
       "    <tr>\n",
       "      <th>2023-01-18</th>\n",
       "      <td>0.650460</td>\n",
       "      <td>0.646917</td>\n",
       "    </tr>\n",
       "    <tr>\n",
       "      <th>2023-01-19</th>\n",
       "      <td>0.168233</td>\n",
       "      <td>0.579000</td>\n",
       "    </tr>\n",
       "    <tr>\n",
       "      <th>2023-01-20</th>\n",
       "      <td>0.667443</td>\n",
       "      <td>0.600100</td>\n",
       "    </tr>\n",
       "    <tr>\n",
       "      <th>2023-01-21</th>\n",
       "      <td>0.918449</td>\n",
       "      <td>0.653509</td>\n",
       "    </tr>\n",
       "    <tr>\n",
       "      <th>2023-01-22</th>\n",
       "      <td>0.753524</td>\n",
       "      <td>0.621891</td>\n",
       "    </tr>\n",
       "    <tr>\n",
       "      <th>2023-01-23</th>\n",
       "      <td>0.276842</td>\n",
       "      <td>0.538510</td>\n",
       "    </tr>\n",
       "    <tr>\n",
       "      <th>2023-01-24</th>\n",
       "      <td>0.483763</td>\n",
       "      <td>0.559816</td>\n",
       "    </tr>\n",
       "    <tr>\n",
       "      <th>2023-01-25</th>\n",
       "      <td>0.585131</td>\n",
       "      <td>0.550484</td>\n",
       "    </tr>\n",
       "    <tr>\n",
       "      <th>2023-01-26</th>\n",
       "      <td>0.324929</td>\n",
       "      <td>0.572869</td>\n",
       "    </tr>\n",
       "    <tr>\n",
       "      <th>2023-01-27</th>\n",
       "      <td>0.955078</td>\n",
       "      <td>0.613959</td>\n",
       "    </tr>\n",
       "    <tr>\n",
       "      <th>2023-01-28</th>\n",
       "      <td>0.990099</td>\n",
       "      <td>0.624195</td>\n",
       "    </tr>\n",
       "    <tr>\n",
       "      <th>2023-01-29</th>\n",
       "      <td>0.471954</td>\n",
       "      <td>0.583971</td>\n",
       "    </tr>\n",
       "    <tr>\n",
       "      <th>2023-01-30</th>\n",
       "      <td>0.129095</td>\n",
       "      <td>0.562864</td>\n",
       "    </tr>\n",
       "    <tr>\n",
       "      <th>2023-01-31</th>\n",
       "      <td>0.525719</td>\n",
       "      <td>0.568858</td>\n",
       "    </tr>\n",
       "  </tbody>\n",
       "</table>\n",
       "</div>"
      ],
      "text/plain": [
       "               Value  Rolling_Avg\n",
       "Date                             \n",
       "2023-01-01  0.520757          NaN\n",
       "2023-01-02  0.547889          NaN\n",
       "2023-01-03  0.390987          NaN\n",
       "2023-01-04  0.913702          NaN\n",
       "2023-01-05  0.133816          NaN\n",
       "2023-01-06  0.700204          NaN\n",
       "2023-01-07  0.496847     0.529172\n",
       "2023-01-08  0.906140     0.584226\n",
       "2023-01-09  0.010282     0.507425\n",
       "2023-01-10  0.323413     0.497772\n",
       "2023-01-11  0.834974     0.486525\n",
       "2023-01-12  0.643652     0.559359\n",
       "2023-01-13  0.519744     0.533579\n",
       "2023-01-14  0.544587     0.540399\n",
       "2023-01-15  0.974845     0.550214\n",
       "2023-01-16  0.860513     0.671675\n",
       "2023-01-17  0.334616     0.673276\n",
       "2023-01-18  0.650460     0.646917\n",
       "2023-01-19  0.168233     0.579000\n",
       "2023-01-20  0.667443     0.600100\n",
       "2023-01-21  0.918449     0.653509\n",
       "2023-01-22  0.753524     0.621891\n",
       "2023-01-23  0.276842     0.538510\n",
       "2023-01-24  0.483763     0.559816\n",
       "2023-01-25  0.585131     0.550484\n",
       "2023-01-26  0.324929     0.572869\n",
       "2023-01-27  0.955078     0.613959\n",
       "2023-01-28  0.990099     0.624195\n",
       "2023-01-29  0.471954     0.583971\n",
       "2023-01-30  0.129095     0.562864\n",
       "2023-01-31  0.525719     0.568858"
      ]
     },
     "execution_count": 33,
     "metadata": {},
     "output_type": "execute_result"
    }
   ],
   "source": [
    "df_with_rolling_avg"
   ]
  },
  {
   "cell_type": "code",
   "execution_count": null,
   "id": "02f450e2-a0d6-496d-8f06-50a78f5af834",
   "metadata": {},
   "outputs": [],
   "source": []
  },
  {
   "cell_type": "markdown",
   "id": "08ff9f60-f3ce-480c-84af-625ff422a746",
   "metadata": {},
   "source": [
    "# Question 4\n",
    "## Create a line plot to visualize the 'Value' column and the rolling 7-day average together."
   ]
  },
  {
   "cell_type": "code",
   "execution_count": 37,
   "id": "737298a4-84c5-466d-a4b2-8f6fd6d3a763",
   "metadata": {},
   "outputs": [
    {
     "data": {
      "text/plain": [
       "<AxesSubplot:title={'center':'Value and rolling 7 days'}, xlabel='Date'>"
      ]
     },
     "execution_count": 37,
     "metadata": {},
     "output_type": "execute_result"
    },
    {
     "data": {
      "image/png": "[encoded data removed]",
      "text/plain": [
       "<Figure size 640x480 with 1 Axes>"
      ]
     },
     "metadata": {},
     "output_type": "display_data"
    }
   ],
   "source": [
    "df_with_rolling_avg.plot(kind='line',title=\"Value and rolling 7 days\",style='.-',color=['r','g'],mfc='y',ms=10)"
   ]
  },
  {
   "cell_type": "code",
   "execution_count": null,
   "id": "7ad32834-c10f-4d18-afce-438b7abc096e",
   "metadata": {},
   "outputs": [],
   "source": []
  }
 ],
 "metadata": {
  "kernelspec": {
   "display_name": "Python 3 (ipykernel)",
   "language": "python",
   "name": "python3"
  },
  "language_info": {
   "codemirror_mode": {
    "name": "ipython",
    "version": 3
   },
   "file_extension": ".py",
   "mimetype": "text/x-python",
   "name": "python",
   "nbconvert_exporter": "python",
   "pygments_lexer": "ipython3",
   "version": "3.10.12"
  }
 },
 "nbformat": 4,
 "nbformat_minor": 5
}
