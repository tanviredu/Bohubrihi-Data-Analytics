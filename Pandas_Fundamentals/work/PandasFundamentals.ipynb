{
 "cells": [
  {
   "cell_type": "code",
   "execution_count": 1,
   "id": "bafca0a5-7040-4682-9b2a-a358848bb682",
   "metadata": {},
   "outputs": [
    {
     "name": "stdout",
     "output_type": "stream",
     "text": [
      "Defaulting to user installation because normal site-packages is not writeable\n",
      "Collecting pandas\n",
      "  Downloading pandas-2.1.1-cp310-cp310-manylinux_2_17_x86_64.manylinux2014_x86_64.whl (12.3 MB)\n",
      "\u001b[2K     \u001b[38;2;114;156;31m━━━━━━━━━━━━━━━━━━━━━━━━━━━━━━━━━━━━━━━━\u001b[0m \u001b[32m12.3/12.3 MB\u001b[0m \u001b[31m2.8 MB/s\u001b[0m eta \u001b[36m0:00:00\u001b[0mm eta \u001b[36m0:00:01\u001b[0m[36m0:00:01\u001b[0mm\n",
      "\u001b[?25hCollecting tzdata>=2022.1\n",
      "  Downloading tzdata-2023.3-py2.py3-none-any.whl (341 kB)\n",
      "\u001b[2K     \u001b[38;2;114;156;31m━━━━━━━━━━━━━━━━━━━━━━━━━━━━━━━━━━━━━━━\u001b[0m \u001b[32m341.8/341.8 KB\u001b[0m \u001b[31m3.9 MB/s\u001b[0m eta \u001b[36m0:00:00\u001b[0mm eta \u001b[36m0:00:01\u001b[0m0:01\u001b[0m\n",
      "\u001b[?25hRequirement already satisfied: numpy>=1.22.4 in /home/tanvir/.local/lib/python3.10/site-packages (from pandas) (1.26.0)\n",
      "Requirement already satisfied: python-dateutil>=2.8.2 in /home/tanvir/.local/lib/python3.10/site-packages (from pandas) (2.8.2)\n",
      "Requirement already satisfied: pytz>=2020.1 in /usr/lib/python3/dist-packages (from pandas) (2022.1)\n",
      "Requirement already satisfied: six>=1.5 in /usr/lib/python3/dist-packages (from python-dateutil>=2.8.2->pandas) (1.16.0)\n",
      "Installing collected packages: tzdata, pandas\n",
      "Successfully installed pandas-2.1.1 tzdata-2023.3\n",
      "Defaulting to user installation because normal site-packages is not writeable\n",
      "Requirement already satisfied: numpy in /home/tanvir/.local/lib/python3.10/site-packages (1.26.0)\n"
     ]
    }
   ],
   "source": [
    "! pip install pandas\n",
    "! pip install numpy"
   ]
  },
  {
   "cell_type": "code",
   "execution_count": 2,
   "id": "dcd679ba-f799-4476-8686-d204cf535b76",
   "metadata": {},
   "outputs": [],
   "source": [
    "import numpy  as np\n",
    "import pandas as pd"
   ]
  },
  {
   "cell_type": "code",
   "execution_count": 10,
   "id": "b6f58dde-f1da-4003-bee3-a85a14aab9c4",
   "metadata": {},
   "outputs": [],
   "source": [
    "def print_metadata(item):\n",
    "    print(\"Type  : \",type(item))\n",
    "    print(\"Shape : \",item.shape)\n",
    "    print(item)"
   ]
  },
  {
   "cell_type": "code",
   "execution_count": 15,
   "id": "5f7f6abc-9e98-41c7-9e7d-d0b70cb37cd4",
   "metadata": {},
   "outputs": [
    {
     "name": "stdout",
     "output_type": "stream",
     "text": [
      "Type  :  <class 'numpy.ndarray'>\n",
      "Shape :  (3,)\n",
      "[0.49094061 0.57589904 0.29986476]\n"
     ]
    }
   ],
   "source": [
    "my_numpy_array = np.random.rand(3)\n",
    "print_metadata(my_numpy_array)"
   ]
  },
  {
   "cell_type": "code",
   "execution_count": 12,
   "id": "fb11a349-7c76-49a2-836c-0d1ee8bc91f8",
   "metadata": {},
   "outputs": [
    {
     "name": "stdout",
     "output_type": "stream",
     "text": [
      "Type  :  <class 'pandas.core.series.Series'>\n",
      "Shape :  (3,)\n",
      "0    0.534561\n",
      "1    0.746877\n",
      "2    0.491901\n",
      "dtype: float64\n"
     ]
    }
   ],
   "source": [
    "## Series Cant have more than 1 column\n",
    "my_series = pd.Series(my_numpy_array)\n",
    "print_metadata(my_series)"
   ]
  },
  {
   "cell_type": "code",
   "execution_count": 13,
   "id": "aedc7298-9379-4649-90e2-39237f69072d",
   "metadata": {},
   "outputs": [
    {
     "name": "stdout",
     "output_type": "stream",
     "text": [
      "Type  :  <class 'pandas.core.series.Series'>\n",
      "Shape :  (3,)\n",
      "First     0.534561\n",
      "Second    0.746877\n",
      "Third     0.491901\n",
      "dtype: float64\n"
     ]
    }
   ],
   "source": [
    "## Series data can have only one column\n",
    "## it can have multiple rows but only 1 column\n",
    "my_series = pd.Series(my_numpy_array,index=['First','Second','Third'])\n",
    "print_metadata(my_series)"
   ]
  },
  {
   "cell_type": "code",
   "execution_count": 14,
   "id": "39f6b640-3acd-4039-880c-745013d3cc05",
   "metadata": {},
   "outputs": [
    {
     "name": "stdout",
     "output_type": "stream",
     "text": [
      "0.5345613303083263\n",
      "0.7468773936114336\n",
      "0.4919008292127307\n"
     ]
    }
   ],
   "source": [
    "print(my_series['First'])\n",
    "print(my_series['Second'])\n",
    "print(my_series['Third'])"
   ]
  },
  {
   "cell_type": "code",
   "execution_count": 33,
   "id": "2708c57a-f3f2-488f-b5bd-a7c5a5c3f8b2",
   "metadata": {},
   "outputs": [
    {
     "name": "stdout",
     "output_type": "stream",
     "text": [
      "Type  :  <class 'numpy.ndarray'>\n",
      "Shape :  (3, 2)\n",
      "[[0.50717583 0.08512105]\n",
      " [0.34567095 0.60314364]\n",
      " [0.10335754 0.74273385]]\n"
     ]
    }
   ],
   "source": [
    "array_2d = np.random.rand(3,2)\n",
    "print_metadata(array_2d)"
   ]
  },
  {
   "cell_type": "code",
   "execution_count": 34,
   "id": "81a38163-fa32-498f-91f2-424a2e452e6f",
   "metadata": {},
   "outputs": [
    {
     "data": {
      "text/html": [
       "<div>\n",
       "<style scoped>\n",
       "    .dataframe tbody tr th:only-of-type {\n",
       "        vertical-align: middle;\n",
       "    }\n",
       "\n",
       "    .dataframe tbody tr th {\n",
       "        vertical-align: top;\n",
       "    }\n",
       "\n",
       "    .dataframe thead th {\n",
       "        text-align: right;\n",
       "    }\n",
       "</style>\n",
       "<table border=\"1\" class=\"dataframe\">\n",
       "  <thead>\n",
       "    <tr style=\"text-align: right;\">\n",
       "      <th></th>\n",
       "      <th>0</th>\n",
       "      <th>1</th>\n",
       "    </tr>\n",
       "  </thead>\n",
       "  <tbody>\n",
       "    <tr>\n",
       "      <th>0</th>\n",
       "      <td>0.507176</td>\n",
       "      <td>0.085121</td>\n",
       "    </tr>\n",
       "    <tr>\n",
       "      <th>1</th>\n",
       "      <td>0.345671</td>\n",
       "      <td>0.603144</td>\n",
       "    </tr>\n",
       "    <tr>\n",
       "      <th>2</th>\n",
       "      <td>0.103358</td>\n",
       "      <td>0.742734</td>\n",
       "    </tr>\n",
       "  </tbody>\n",
       "</table>\n",
       "</div>"
      ],
      "text/plain": [
       "          0         1\n",
       "0  0.507176  0.085121\n",
       "1  0.345671  0.603144\n",
       "2  0.103358  0.742734"
      ]
     },
     "execution_count": 34,
     "metadata": {},
     "output_type": "execute_result"
    }
   ],
   "source": [
    "df = pd.DataFrame(array_2d)\n",
    "df"
   ]
  },
  {
   "cell_type": "code",
   "execution_count": 35,
   "id": "6e4b14fe-cddd-4a5d-a4ac-51d03d942971",
   "metadata": {},
   "outputs": [
    {
     "name": "stdout",
     "output_type": "stream",
     "text": [
      "Type  :  <class 'numpy.float64'>\n",
      "Shape :  ()\n",
      "0.08512105175007079\n"
     ]
    }
   ],
   "source": [
    "## getting data from tje first row and second column\n",
    "## in pandas data frame first is column and second is row\n",
    "print_metadata(df[1][0])"
   ]
  },
  {
   "cell_type": "code",
   "execution_count": 38,
   "id": "e3fdbb4b-4e41-4772-8e77-ce959f51cf78",
   "metadata": {},
   "outputs": [
    {
     "name": "stdout",
     "output_type": "stream",
     "text": [
      "Type  :  <class 'numpy.float64'>\n",
      "Shape :  ()\n",
      "0.08512105175007079\n"
     ]
    }
   ],
   "source": [
    "## but in numpy the index is reverse, first row second column\n",
    "print_metadata(array_2d[0][1])"
   ]
  },
  {
   "cell_type": "code",
   "execution_count": 37,
   "id": "a62845da-85da-4d01-9304-210606a28ad4",
   "metadata": {},
   "outputs": [
    {
     "data": {
      "text/plain": [
       "0.08512105175007079"
      ]
     },
     "execution_count": 37,
     "metadata": {},
     "output_type": "execute_result"
    }
   ],
   "source": []
  },
  {
   "cell_type": "code",
   "execution_count": null,
   "id": "2e9aca69-68e9-452d-b68f-6b8fbcc9f4db",
   "metadata": {},
   "outputs": [],
   "source": []
  }
 ],
 "metadata": {
  "kernelspec": {
   "display_name": "Python 3 (ipykernel)",
   "language": "python",
   "name": "python3"
  },
  "language_info": {
   "codemirror_mode": {
    "name": "ipython",
    "version": 3
   },
   "file_extension": ".py",
   "mimetype": "text/x-python",
   "name": "python",
   "nbconvert_exporter": "python",
   "pygments_lexer": "ipython3",
   "version": "3.10.12"
  }
 },
 "nbformat": 4,
 "nbformat_minor": 5
}
