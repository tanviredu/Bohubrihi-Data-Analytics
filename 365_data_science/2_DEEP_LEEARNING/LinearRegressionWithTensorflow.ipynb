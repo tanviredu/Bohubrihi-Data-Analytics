{
  "nbformat": 4,
  "nbformat_minor": 0,
  "metadata": {
    "colab": {
      "provenance": []
    },
    "kernelspec": {
      "name": "python3",
      "display_name": "Python 3"
    },
    "language_info": {
      "name": "python"
    }
  },
  "cells": [
    {
      "cell_type": "code",
      "execution_count": 1,
      "metadata": {
        "id": "fmRP6vkVKJj2"
      },
      "outputs": [],
      "source": [
        "import numpy             as np\n",
        "import pandas            as pd\n",
        "import matplotlib.pyplot as plt\n",
        "import tensorflow        as tf\n",
        "from   tqdm              import tqdm\n"
      ]
    },
    {
      "cell_type": "code",
      "source": [
        "observations =  1000\n",
        "xs = np.random.uniform(-10,10,(observations,1))\n",
        "zs = np.random.uniform(-10,10,(observations,1))\n",
        "generated_inputs = np.column_stack((xs,zs))\n",
        "noise = np.random.uniform(-1,1,(observations,1))"
      ],
      "metadata": {
        "id": "nDStSiegKapm"
      },
      "execution_count": 2,
      "outputs": []
    },
    {
      "cell_type": "code",
      "source": [
        "## target folrmila is 2x=3z+5\n",
        "generated_targets = 2*xs - 3*zs + 5 + noise"
      ],
      "metadata": {
        "id": "l-QKLJkgLJPp"
      },
      "execution_count": 3,
      "outputs": []
    },
    {
      "cell_type": "code",
      "source": [
        "##exporing the value\n",
        "np.savez(\"Tf_intro\",inputs = generated_inputs,targets = generated_targets)"
      ],
      "metadata": {
        "id": "FMXuAl8YLY4Z"
      },
      "execution_count": 9,
      "outputs": []
    },
    {
      "cell_type": "code",
      "source": [
        "!ls"
      ],
      "metadata": {
        "colab": {
          "base_uri": "https://localhost:8080/"
        },
        "id": "iB9NqcKMLh-9",
        "outputId": "0e2e9761-df6a-463c-f815-bf6ece9c8d38"
      },
      "execution_count": 10,
      "outputs": [
        {
          "output_type": "stream",
          "name": "stdout",
          "text": [
            "sample_data  Tf_intro.npy  Tf_intro.npz\n"
          ]
        }
      ]
    },
    {
      "cell_type": "code",
      "source": [
        "training_data = np.load(\"Tf_intro.npz\")"
      ],
      "metadata": {
        "id": "al1c45J1MUW1"
      },
      "execution_count": 12,
      "outputs": []
    },
    {
      "cell_type": "code",
      "source": [
        "input_size  = 2\n",
        "output_size = 1"
      ],
      "metadata": {
        "id": "UwVY47bRMdTq"
      },
      "execution_count": 13,
      "outputs": []
    },
    {
      "cell_type": "code",
      "source": [
        "model =  tf.keras.Sequential([\n",
        "    tf.keras.layers.Dense(output_size)\n",
        "])"
      ],
      "metadata": {
        "id": "HYL8SNOnMlfl"
      },
      "execution_count": 14,
      "outputs": []
    },
    {
      "cell_type": "code",
      "source": [
        "model.compile(optimizer=\"sgd\",loss=\"mean_squared_error\")"
      ],
      "metadata": {
        "id": "mgGa0qxMNVsa"
      },
      "execution_count": 19,
      "outputs": []
    },
    {
      "cell_type": "code",
      "source": [
        "history = model.fit(training_data['inputs'],training_data['targets'],epochs=100,verbose = 2)"
      ],
      "metadata": {
        "colab": {
          "base_uri": "https://localhost:8080/"
        },
        "id": "TYCgHvP0NzuH",
        "outputId": "7632f4ac-5c81-4c09-ab77-e8e187fab354"
      },
      "execution_count": 21,
      "outputs": [
        {
          "output_type": "stream",
          "name": "stdout",
          "text": [
            "Epoch 1/100\n",
            "32/32 - 0s - loss: 0.3576 - 260ms/epoch - 8ms/step\n",
            "Epoch 2/100\n",
            "32/32 - 0s - loss: 0.3502 - 190ms/epoch - 6ms/step\n",
            "Epoch 3/100\n",
            "32/32 - 0s - loss: 0.3500 - 254ms/epoch - 8ms/step\n",
            "Epoch 4/100\n",
            "32/32 - 0s - loss: 0.3530 - 224ms/epoch - 7ms/step\n",
            "Epoch 5/100\n",
            "32/32 - 0s - loss: 0.3553 - 174ms/epoch - 5ms/step\n",
            "Epoch 6/100\n",
            "32/32 - 0s - loss: 0.3523 - 45ms/epoch - 1ms/step\n",
            "Epoch 7/100\n",
            "32/32 - 0s - loss: 0.3556 - 51ms/epoch - 2ms/step\n",
            "Epoch 8/100\n",
            "32/32 - 0s - loss: 0.3552 - 59ms/epoch - 2ms/step\n",
            "Epoch 9/100\n",
            "32/32 - 0s - loss: 0.3556 - 48ms/epoch - 2ms/step\n",
            "Epoch 10/100\n",
            "32/32 - 0s - loss: 0.3496 - 54ms/epoch - 2ms/step\n",
            "Epoch 11/100\n",
            "32/32 - 0s - loss: 0.3554 - 50ms/epoch - 2ms/step\n",
            "Epoch 12/100\n",
            "32/32 - 0s - loss: 0.3581 - 45ms/epoch - 1ms/step\n",
            "Epoch 13/100\n",
            "32/32 - 0s - loss: 0.3570 - 50ms/epoch - 2ms/step\n",
            "Epoch 14/100\n",
            "32/32 - 0s - loss: 0.3551 - 49ms/epoch - 2ms/step\n",
            "Epoch 15/100\n",
            "32/32 - 0s - loss: 0.3548 - 44ms/epoch - 1ms/step\n",
            "Epoch 16/100\n",
            "32/32 - 0s - loss: 0.3579 - 47ms/epoch - 1ms/step\n",
            "Epoch 17/100\n",
            "32/32 - 0s - loss: 0.3584 - 45ms/epoch - 1ms/step\n",
            "Epoch 18/100\n",
            "32/32 - 0s - loss: 0.3534 - 45ms/epoch - 1ms/step\n",
            "Epoch 19/100\n",
            "32/32 - 0s - loss: 0.3593 - 43ms/epoch - 1ms/step\n",
            "Epoch 20/100\n",
            "32/32 - 0s - loss: 0.3525 - 45ms/epoch - 1ms/step\n",
            "Epoch 21/100\n",
            "32/32 - 0s - loss: 0.3550 - 43ms/epoch - 1ms/step\n",
            "Epoch 22/100\n",
            "32/32 - 0s - loss: 0.3572 - 42ms/epoch - 1ms/step\n",
            "Epoch 23/100\n",
            "32/32 - 0s - loss: 0.3547 - 49ms/epoch - 2ms/step\n",
            "Epoch 24/100\n",
            "32/32 - 0s - loss: 0.3609 - 47ms/epoch - 1ms/step\n",
            "Epoch 25/100\n",
            "32/32 - 0s - loss: 0.3514 - 47ms/epoch - 1ms/step\n",
            "Epoch 26/100\n",
            "32/32 - 0s - loss: 0.3533 - 45ms/epoch - 1ms/step\n",
            "Epoch 27/100\n",
            "32/32 - 0s - loss: 0.3535 - 49ms/epoch - 2ms/step\n",
            "Epoch 28/100\n",
            "32/32 - 0s - loss: 0.3561 - 56ms/epoch - 2ms/step\n",
            "Epoch 29/100\n",
            "32/32 - 0s - loss: 0.3572 - 53ms/epoch - 2ms/step\n",
            "Epoch 30/100\n",
            "32/32 - 0s - loss: 0.3553 - 44ms/epoch - 1ms/step\n",
            "Epoch 31/100\n",
            "32/32 - 0s - loss: 0.3533 - 45ms/epoch - 1ms/step\n",
            "Epoch 32/100\n",
            "32/32 - 0s - loss: 0.3512 - 45ms/epoch - 1ms/step\n",
            "Epoch 33/100\n",
            "32/32 - 0s - loss: 0.3536 - 47ms/epoch - 1ms/step\n",
            "Epoch 34/100\n",
            "32/32 - 0s - loss: 0.3539 - 52ms/epoch - 2ms/step\n",
            "Epoch 35/100\n",
            "32/32 - 0s - loss: 0.3530 - 43ms/epoch - 1ms/step\n",
            "Epoch 36/100\n",
            "32/32 - 0s - loss: 0.3517 - 45ms/epoch - 1ms/step\n",
            "Epoch 37/100\n",
            "32/32 - 0s - loss: 0.3553 - 45ms/epoch - 1ms/step\n",
            "Epoch 38/100\n",
            "32/32 - 0s - loss: 0.3534 - 42ms/epoch - 1ms/step\n",
            "Epoch 39/100\n",
            "32/32 - 0s - loss: 0.3523 - 53ms/epoch - 2ms/step\n",
            "Epoch 40/100\n",
            "32/32 - 0s - loss: 0.3514 - 44ms/epoch - 1ms/step\n",
            "Epoch 41/100\n",
            "32/32 - 0s - loss: 0.3536 - 44ms/epoch - 1ms/step\n",
            "Epoch 42/100\n",
            "32/32 - 0s - loss: 0.3621 - 43ms/epoch - 1ms/step\n",
            "Epoch 43/100\n",
            "32/32 - 0s - loss: 0.3537 - 48ms/epoch - 2ms/step\n",
            "Epoch 44/100\n",
            "32/32 - 0s - loss: 0.3457 - 47ms/epoch - 1ms/step\n",
            "Epoch 45/100\n",
            "32/32 - 0s - loss: 0.3534 - 53ms/epoch - 2ms/step\n",
            "Epoch 46/100\n",
            "32/32 - 0s - loss: 0.3526 - 46ms/epoch - 1ms/step\n",
            "Epoch 47/100\n",
            "32/32 - 0s - loss: 0.3524 - 46ms/epoch - 1ms/step\n",
            "Epoch 48/100\n",
            "32/32 - 0s - loss: 0.3611 - 54ms/epoch - 2ms/step\n",
            "Epoch 49/100\n",
            "32/32 - 0s - loss: 0.3558 - 50ms/epoch - 2ms/step\n",
            "Epoch 50/100\n",
            "32/32 - 0s - loss: 0.3644 - 49ms/epoch - 2ms/step\n",
            "Epoch 51/100\n",
            "32/32 - 0s - loss: 0.3613 - 45ms/epoch - 1ms/step\n",
            "Epoch 52/100\n",
            "32/32 - 0s - loss: 0.3551 - 44ms/epoch - 1ms/step\n",
            "Epoch 53/100\n",
            "32/32 - 0s - loss: 0.3521 - 45ms/epoch - 1ms/step\n",
            "Epoch 54/100\n",
            "32/32 - 0s - loss: 0.3516 - 49ms/epoch - 2ms/step\n",
            "Epoch 55/100\n",
            "32/32 - 0s - loss: 0.3530 - 54ms/epoch - 2ms/step\n",
            "Epoch 56/100\n",
            "32/32 - 0s - loss: 0.3543 - 47ms/epoch - 1ms/step\n",
            "Epoch 57/100\n",
            "32/32 - 0s - loss: 0.3546 - 45ms/epoch - 1ms/step\n",
            "Epoch 58/100\n",
            "32/32 - 0s - loss: 0.3608 - 45ms/epoch - 1ms/step\n",
            "Epoch 59/100\n",
            "32/32 - 0s - loss: 0.3557 - 43ms/epoch - 1ms/step\n",
            "Epoch 60/100\n",
            "32/32 - 0s - loss: 0.3718 - 43ms/epoch - 1ms/step\n",
            "Epoch 61/100\n",
            "32/32 - 0s - loss: 0.3579 - 46ms/epoch - 1ms/step\n",
            "Epoch 62/100\n",
            "32/32 - 0s - loss: 0.3604 - 47ms/epoch - 1ms/step\n",
            "Epoch 63/100\n",
            "32/32 - 0s - loss: 0.3630 - 45ms/epoch - 1ms/step\n",
            "Epoch 64/100\n",
            "32/32 - 0s - loss: 0.3497 - 43ms/epoch - 1ms/step\n",
            "Epoch 65/100\n",
            "32/32 - 0s - loss: 0.3506 - 45ms/epoch - 1ms/step\n",
            "Epoch 66/100\n",
            "32/32 - 0s - loss: 0.3547 - 47ms/epoch - 1ms/step\n",
            "Epoch 67/100\n",
            "32/32 - 0s - loss: 0.3582 - 43ms/epoch - 1ms/step\n",
            "Epoch 68/100\n",
            "32/32 - 0s - loss: 0.3607 - 57ms/epoch - 2ms/step\n",
            "Epoch 69/100\n",
            "32/32 - 0s - loss: 0.3461 - 48ms/epoch - 2ms/step\n",
            "Epoch 70/100\n",
            "32/32 - 0s - loss: 0.3547 - 45ms/epoch - 1ms/step\n",
            "Epoch 71/100\n",
            "32/32 - 0s - loss: 0.3527 - 43ms/epoch - 1ms/step\n",
            "Epoch 72/100\n",
            "32/32 - 0s - loss: 0.3676 - 44ms/epoch - 1ms/step\n",
            "Epoch 73/100\n",
            "32/32 - 0s - loss: 0.3504 - 43ms/epoch - 1ms/step\n",
            "Epoch 74/100\n",
            "32/32 - 0s - loss: 0.3470 - 48ms/epoch - 2ms/step\n",
            "Epoch 75/100\n",
            "32/32 - 0s - loss: 0.3522 - 45ms/epoch - 1ms/step\n",
            "Epoch 76/100\n",
            "32/32 - 0s - loss: 0.3541 - 49ms/epoch - 2ms/step\n",
            "Epoch 77/100\n",
            "32/32 - 0s - loss: 0.3563 - 45ms/epoch - 1ms/step\n",
            "Epoch 78/100\n",
            "32/32 - 0s - loss: 0.3540 - 45ms/epoch - 1ms/step\n",
            "Epoch 79/100\n",
            "32/32 - 0s - loss: 0.3568 - 42ms/epoch - 1ms/step\n",
            "Epoch 80/100\n",
            "32/32 - 0s - loss: 0.3498 - 45ms/epoch - 1ms/step\n",
            "Epoch 81/100\n",
            "32/32 - 0s - loss: 0.3519 - 44ms/epoch - 1ms/step\n",
            "Epoch 82/100\n",
            "32/32 - 0s - loss: 0.3523 - 44ms/epoch - 1ms/step\n",
            "Epoch 83/100\n",
            "32/32 - 0s - loss: 0.3589 - 48ms/epoch - 1ms/step\n",
            "Epoch 84/100\n",
            "32/32 - 0s - loss: 0.3477 - 47ms/epoch - 1ms/step\n",
            "Epoch 85/100\n",
            "32/32 - 0s - loss: 0.3596 - 42ms/epoch - 1ms/step\n",
            "Epoch 86/100\n",
            "32/32 - 0s - loss: 0.3558 - 45ms/epoch - 1ms/step\n",
            "Epoch 87/100\n",
            "32/32 - 0s - loss: 0.3610 - 61ms/epoch - 2ms/step\n",
            "Epoch 88/100\n",
            "32/32 - 0s - loss: 0.3521 - 44ms/epoch - 1ms/step\n",
            "Epoch 89/100\n",
            "32/32 - 0s - loss: 0.3527 - 54ms/epoch - 2ms/step\n",
            "Epoch 90/100\n",
            "32/32 - 0s - loss: 0.3523 - 47ms/epoch - 1ms/step\n",
            "Epoch 91/100\n",
            "32/32 - 0s - loss: 0.3587 - 43ms/epoch - 1ms/step\n",
            "Epoch 92/100\n",
            "32/32 - 0s - loss: 0.3559 - 43ms/epoch - 1ms/step\n",
            "Epoch 93/100\n",
            "32/32 - 0s - loss: 0.3579 - 45ms/epoch - 1ms/step\n",
            "Epoch 94/100\n",
            "32/32 - 0s - loss: 0.3515 - 49ms/epoch - 2ms/step\n",
            "Epoch 95/100\n",
            "32/32 - 0s - loss: 0.3435 - 45ms/epoch - 1ms/step\n",
            "Epoch 96/100\n",
            "32/32 - 0s - loss: 0.3627 - 44ms/epoch - 1ms/step\n",
            "Epoch 97/100\n",
            "32/32 - 0s - loss: 0.3603 - 43ms/epoch - 1ms/step\n",
            "Epoch 98/100\n",
            "32/32 - 0s - loss: 0.3544 - 44ms/epoch - 1ms/step\n",
            "Epoch 99/100\n",
            "32/32 - 0s - loss: 0.3568 - 45ms/epoch - 1ms/step\n",
            "Epoch 100/100\n",
            "32/32 - 0s - loss: 0.3550 - 43ms/epoch - 1ms/step\n"
          ]
        }
      ]
    },
    {
      "cell_type": "code",
      "source": [
        "## extract the weights and bias\n",
        "model.layers[0].get_weights()"
      ],
      "metadata": {
        "colab": {
          "base_uri": "https://localhost:8080/"
        },
        "id": "ogYMkxEYOCb4",
        "outputId": "dfd12f07-0d08-41e5-8d6c-74bb2645464f"
      },
      "execution_count": 23,
      "outputs": [
        {
          "output_type": "execute_result",
          "data": {
            "text/plain": [
              "[array([[ 1.9885143],\n",
              "        [-3.0005026]], dtype=float32),\n",
              " array([5.000171], dtype=float32)]"
            ]
          },
          "metadata": {},
          "execution_count": 23
        }
      ]
    },
    {
      "cell_type": "code",
      "source": [
        "#make prediction\n",
        "prediction = model.predict_on_batch(training_data['inputs']).round(1)"
      ],
      "metadata": {
        "id": "pHvQvDykOmwO"
      },
      "execution_count": 27,
      "outputs": []
    },
    {
      "cell_type": "code",
      "source": [
        "data = np.column_stack((training_data['targets'],prediction))"
      ],
      "metadata": {
        "id": "Lp0IQbdYOvAO"
      },
      "execution_count": 29,
      "outputs": []
    },
    {
      "cell_type": "code",
      "source": [
        "df = pd.DataFrame(data,columns=['target','prediction'])"
      ],
      "metadata": {
        "id": "PCH5wd1NPhSL"
      },
      "execution_count": 31,
      "outputs": []
    },
    {
      "cell_type": "code",
      "source": [
        "df.head()"
      ],
      "metadata": {
        "colab": {
          "base_uri": "https://localhost:8080/",
          "height": 206
        },
        "id": "VRiqoaOBPpFQ",
        "outputId": "9950f43a-01b0-4ce9-a704-978256926cd0"
      },
      "execution_count": 36,
      "outputs": [
        {
          "output_type": "execute_result",
          "data": {
            "text/plain": [
              "      target  prediction\n",
              "0  -2.206624   -1.600000\n",
              "1  -0.606289   -0.400000\n",
              "2  18.082460   17.400000\n",
              "3 -26.710587  -27.700001\n",
              "4  -8.101487   -8.200000"
            ],
            "text/html": [
              "\n",
              "  <div id=\"df-1fd7e85f-7fda-4c14-8779-f5d2d54856ab\" class=\"colab-df-container\">\n",
              "    <div>\n",
              "<style scoped>\n",
              "    .dataframe tbody tr th:only-of-type {\n",
              "        vertical-align: middle;\n",
              "    }\n",
              "\n",
              "    .dataframe tbody tr th {\n",
              "        vertical-align: top;\n",
              "    }\n",
              "\n",
              "    .dataframe thead th {\n",
              "        text-align: right;\n",
              "    }\n",
              "</style>\n",
              "<table border=\"1\" class=\"dataframe\">\n",
              "  <thead>\n",
              "    <tr style=\"text-align: right;\">\n",
              "      <th></th>\n",
              "      <th>target</th>\n",
              "      <th>prediction</th>\n",
              "    </tr>\n",
              "  </thead>\n",
              "  <tbody>\n",
              "    <tr>\n",
              "      <th>0</th>\n",
              "      <td>-2.206624</td>\n",
              "      <td>-1.600000</td>\n",
              "    </tr>\n",
              "    <tr>\n",
              "      <th>1</th>\n",
              "      <td>-0.606289</td>\n",
              "      <td>-0.400000</td>\n",
              "    </tr>\n",
              "    <tr>\n",
              "      <th>2</th>\n",
              "      <td>18.082460</td>\n",
              "      <td>17.400000</td>\n",
              "    </tr>\n",
              "    <tr>\n",
              "      <th>3</th>\n",
              "      <td>-26.710587</td>\n",
              "      <td>-27.700001</td>\n",
              "    </tr>\n",
              "    <tr>\n",
              "      <th>4</th>\n",
              "      <td>-8.101487</td>\n",
              "      <td>-8.200000</td>\n",
              "    </tr>\n",
              "  </tbody>\n",
              "</table>\n",
              "</div>\n",
              "    <div class=\"colab-df-buttons\">\n",
              "\n",
              "  <div class=\"colab-df-container\">\n",
              "    <button class=\"colab-df-convert\" onclick=\"convertToInteractive('df-1fd7e85f-7fda-4c14-8779-f5d2d54856ab')\"\n",
              "            title=\"Convert this dataframe to an interactive table.\"\n",
              "            style=\"display:none;\">\n",
              "\n",
              "  <svg xmlns=\"http://www.w3.org/2000/svg\" height=\"24px\" viewBox=\"0 -960 960 960\">\n",
              "    <path d=\"M120-120v-720h720v720H120Zm60-500h600v-160H180v160Zm220 220h160v-160H400v160Zm0 220h160v-160H400v160ZM180-400h160v-160H180v160Zm440 0h160v-160H620v160ZM180-180h160v-160H180v160Zm440 0h160v-160H620v160Z\"/>\n",
              "  </svg>\n",
              "    </button>\n",
              "\n",
              "  <style>\n",
              "    .colab-df-container {\n",
              "      display:flex;\n",
              "      gap: 12px;\n",
              "    }\n",
              "\n",
              "    .colab-df-convert {\n",
              "      background-color: #E8F0FE;\n",
              "      border: none;\n",
              "      border-radius: 50%;\n",
              "      cursor: pointer;\n",
              "      display: none;\n",
              "      fill: #1967D2;\n",
              "      height: 32px;\n",
              "      padding: 0 0 0 0;\n",
              "      width: 32px;\n",
              "    }\n",
              "\n",
              "    .colab-df-convert:hover {\n",
              "      background-color: #E2EBFA;\n",
              "      box-shadow: 0px 1px 2px rgba(60, 64, 67, 0.3), 0px 1px 3px 1px rgba(60, 64, 67, 0.15);\n",
              "      fill: #174EA6;\n",
              "    }\n",
              "\n",
              "    .colab-df-buttons div {\n",
              "      margin-bottom: 4px;\n",
              "    }\n",
              "\n",
              "    [theme=dark] .colab-df-convert {\n",
              "      background-color: #3B4455;\n",
              "      fill: #D2E3FC;\n",
              "    }\n",
              "\n",
              "    [theme=dark] .colab-df-convert:hover {\n",
              "      background-color: #434B5C;\n",
              "      box-shadow: 0px 1px 3px 1px rgba(0, 0, 0, 0.15);\n",
              "      filter: drop-shadow(0px 1px 2px rgba(0, 0, 0, 0.3));\n",
              "      fill: #FFFFFF;\n",
              "    }\n",
              "  </style>\n",
              "\n",
              "    <script>\n",
              "      const buttonEl =\n",
              "        document.querySelector('#df-1fd7e85f-7fda-4c14-8779-f5d2d54856ab button.colab-df-convert');\n",
              "      buttonEl.style.display =\n",
              "        google.colab.kernel.accessAllowed ? 'block' : 'none';\n",
              "\n",
              "      async function convertToInteractive(key) {\n",
              "        const element = document.querySelector('#df-1fd7e85f-7fda-4c14-8779-f5d2d54856ab');\n",
              "        const dataTable =\n",
              "          await google.colab.kernel.invokeFunction('convertToInteractive',\n",
              "                                                    [key], {});\n",
              "        if (!dataTable) return;\n",
              "\n",
              "        const docLinkHtml = 'Like what you see? Visit the ' +\n",
              "          '<a target=\"_blank\" href=https://colab.research.google.com/notebooks/data_table.ipynb>data table notebook</a>'\n",
              "          + ' to learn more about interactive tables.';\n",
              "        element.innerHTML = '';\n",
              "        dataTable['output_type'] = 'display_data';\n",
              "        await google.colab.output.renderOutput(dataTable, element);\n",
              "        const docLink = document.createElement('div');\n",
              "        docLink.innerHTML = docLinkHtml;\n",
              "        element.appendChild(docLink);\n",
              "      }\n",
              "    </script>\n",
              "  </div>\n",
              "\n",
              "\n",
              "<div id=\"df-647c505b-de33-40a6-9ba3-f643200cbc8a\">\n",
              "  <button class=\"colab-df-quickchart\" onclick=\"quickchart('df-647c505b-de33-40a6-9ba3-f643200cbc8a')\"\n",
              "            title=\"Suggest charts\"\n",
              "            style=\"display:none;\">\n",
              "\n",
              "<svg xmlns=\"http://www.w3.org/2000/svg\" height=\"24px\"viewBox=\"0 0 24 24\"\n",
              "     width=\"24px\">\n",
              "    <g>\n",
              "        <path d=\"M19 3H5c-1.1 0-2 .9-2 2v14c0 1.1.9 2 2 2h14c1.1 0 2-.9 2-2V5c0-1.1-.9-2-2-2zM9 17H7v-7h2v7zm4 0h-2V7h2v10zm4 0h-2v-4h2v4z\"/>\n",
              "    </g>\n",
              "</svg>\n",
              "  </button>\n",
              "\n",
              "<style>\n",
              "  .colab-df-quickchart {\n",
              "      --bg-color: #E8F0FE;\n",
              "      --fill-color: #1967D2;\n",
              "      --hover-bg-color: #E2EBFA;\n",
              "      --hover-fill-color: #174EA6;\n",
              "      --disabled-fill-color: #AAA;\n",
              "      --disabled-bg-color: #DDD;\n",
              "  }\n",
              "\n",
              "  [theme=dark] .colab-df-quickchart {\n",
              "      --bg-color: #3B4455;\n",
              "      --fill-color: #D2E3FC;\n",
              "      --hover-bg-color: #434B5C;\n",
              "      --hover-fill-color: #FFFFFF;\n",
              "      --disabled-bg-color: #3B4455;\n",
              "      --disabled-fill-color: #666;\n",
              "  }\n",
              "\n",
              "  .colab-df-quickchart {\n",
              "    background-color: var(--bg-color);\n",
              "    border: none;\n",
              "    border-radius: 50%;\n",
              "    cursor: pointer;\n",
              "    display: none;\n",
              "    fill: var(--fill-color);\n",
              "    height: 32px;\n",
              "    padding: 0;\n",
              "    width: 32px;\n",
              "  }\n",
              "\n",
              "  .colab-df-quickchart:hover {\n",
              "    background-color: var(--hover-bg-color);\n",
              "    box-shadow: 0 1px 2px rgba(60, 64, 67, 0.3), 0 1px 3px 1px rgba(60, 64, 67, 0.15);\n",
              "    fill: var(--button-hover-fill-color);\n",
              "  }\n",
              "\n",
              "  .colab-df-quickchart-complete:disabled,\n",
              "  .colab-df-quickchart-complete:disabled:hover {\n",
              "    background-color: var(--disabled-bg-color);\n",
              "    fill: var(--disabled-fill-color);\n",
              "    box-shadow: none;\n",
              "  }\n",
              "\n",
              "  .colab-df-spinner {\n",
              "    border: 2px solid var(--fill-color);\n",
              "    border-color: transparent;\n",
              "    border-bottom-color: var(--fill-color);\n",
              "    animation:\n",
              "      spin 1s steps(1) infinite;\n",
              "  }\n",
              "\n",
              "  @keyframes spin {\n",
              "    0% {\n",
              "      border-color: transparent;\n",
              "      border-bottom-color: var(--fill-color);\n",
              "      border-left-color: var(--fill-color);\n",
              "    }\n",
              "    20% {\n",
              "      border-color: transparent;\n",
              "      border-left-color: var(--fill-color);\n",
              "      border-top-color: var(--fill-color);\n",
              "    }\n",
              "    30% {\n",
              "      border-color: transparent;\n",
              "      border-left-color: var(--fill-color);\n",
              "      border-top-color: var(--fill-color);\n",
              "      border-right-color: var(--fill-color);\n",
              "    }\n",
              "    40% {\n",
              "      border-color: transparent;\n",
              "      border-right-color: var(--fill-color);\n",
              "      border-top-color: var(--fill-color);\n",
              "    }\n",
              "    60% {\n",
              "      border-color: transparent;\n",
              "      border-right-color: var(--fill-color);\n",
              "    }\n",
              "    80% {\n",
              "      border-color: transparent;\n",
              "      border-right-color: var(--fill-color);\n",
              "      border-bottom-color: var(--fill-color);\n",
              "    }\n",
              "    90% {\n",
              "      border-color: transparent;\n",
              "      border-bottom-color: var(--fill-color);\n",
              "    }\n",
              "  }\n",
              "</style>\n",
              "\n",
              "  <script>\n",
              "    async function quickchart(key) {\n",
              "      const quickchartButtonEl =\n",
              "        document.querySelector('#' + key + ' button');\n",
              "      quickchartButtonEl.disabled = true;  // To prevent multiple clicks.\n",
              "      quickchartButtonEl.classList.add('colab-df-spinner');\n",
              "      try {\n",
              "        const charts = await google.colab.kernel.invokeFunction(\n",
              "            'suggestCharts', [key], {});\n",
              "      } catch (error) {\n",
              "        console.error('Error during call to suggestCharts:', error);\n",
              "      }\n",
              "      quickchartButtonEl.classList.remove('colab-df-spinner');\n",
              "      quickchartButtonEl.classList.add('colab-df-quickchart-complete');\n",
              "    }\n",
              "    (() => {\n",
              "      let quickchartButtonEl =\n",
              "        document.querySelector('#df-647c505b-de33-40a6-9ba3-f643200cbc8a button');\n",
              "      quickchartButtonEl.style.display =\n",
              "        google.colab.kernel.accessAllowed ? 'block' : 'none';\n",
              "    })();\n",
              "  </script>\n",
              "</div>\n",
              "    </div>\n",
              "  </div>\n"
            ]
          },
          "metadata": {},
          "execution_count": 36
        }
      ]
    },
    {
      "cell_type": "code",
      "source": [
        "df['target'].rolling(30).mean().plot()\n",
        "df['prediction'].rolling(30).mean().plot()"
      ],
      "metadata": {
        "colab": {
          "base_uri": "https://localhost:8080/",
          "height": 447
        },
        "id": "9fQ7Yj0nPyw1",
        "outputId": "00881a30-d3fd-4a8f-f474-1df6bc789e97"
      },
      "execution_count": 43,
      "outputs": [
        {
          "output_type": "execute_result",
          "data": {
            "text/plain": [
              "<Axes: >"
            ]
          },
          "metadata": {},
          "execution_count": 43
        },
        {
          "output_type": "display_data",
          "data": {
            "text/plain": [
              "<Figure size 640x480 with 1 Axes>"
            ],
            "image/png": "[encoded data removed]"
          },
          "metadata": {}
        }
      ]
    },
    {
      "cell_type": "code",
      "source": [],
      "metadata": {
        "colab": {
          "base_uri": "https://localhost:8080/",
          "height": 451
        },
        "id": "zv4b3wYeRBcu",
        "outputId": "9fbfee81-d2d5-4bad-faf8-b1eb00e57648"
      },
      "execution_count": 41,
      "outputs": [
        {
          "output_type": "execute_result",
          "data": {
            "text/plain": [
              "<Axes: >"
            ]
          },
          "metadata": {},
          "execution_count": 41
        },
        {
          "output_type": "display_data",
          "data": {
            "text/plain": [
              "<Figure size 640x480 with 1 Axes>"
            ],
            "image/png": "[encoded data removed]"
          },
          "metadata": {}
        }
      ]
    },
    {
      "cell_type": "code",
      "source": [],
      "metadata": {
        "id": "BH35Wqa3RLhg"
      },
      "execution_count": null,
      "outputs": []
    }
  ]
}